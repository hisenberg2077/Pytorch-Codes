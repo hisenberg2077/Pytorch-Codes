{
  "cells": [
    {
      "cell_type": "markdown",
      "metadata": {
        "id": "view-in-github",
        "colab_type": "text"
      },
      "source": [
        "<a href=\"https://colab.research.google.com/github/hisenberg2077/Pytorch-Codes/blob/main/Regression_01_pytorch.ipynb\" target=\"_parent\"><img src=\"https://colab.research.google.com/assets/colab-badge.svg\" alt=\"Open In Colab\"/></a>"
      ]
    },
    {
      "cell_type": "code",
      "source": [
        "import torch\n",
        "from torch import nn\n",
        "import matplotlib.pyplot as plt"
      ],
      "metadata": {
        "id": "QN1004j17Sx8"
      },
      "execution_count": 1,
      "outputs": []
    },
    {
      "cell_type": "code",
      "source": [
        "w = 0.3\n",
        "b = 0.5\n",
        "\n",
        "X = torch.arange(0,5,0.01).unsqueeze(1)\n",
        "y = w*X + b\n",
        "\n",
        "len(X)\n",
        "len(y)"
      ],
      "metadata": {
        "id": "Y6w52pGT7hax",
        "outputId": "00645670-3211-4232-fcb7-6433382b08f1",
        "colab": {
          "base_uri": "https://localhost:8080/"
        }
      },
      "execution_count": 2,
      "outputs": [
        {
          "output_type": "execute_result",
          "data": {
            "text/plain": [
              "500"
            ]
          },
          "metadata": {},
          "execution_count": 2
        }
      ]
    },
    {
      "cell_type": "code",
      "source": [
        "X[:10], y[:10]"
      ],
      "metadata": {
        "id": "E8P2853S9SPX",
        "outputId": "f73d93fd-ec73-450e-bf02-b8a3f564e496",
        "colab": {
          "base_uri": "https://localhost:8080/"
        }
      },
      "execution_count": 3,
      "outputs": [
        {
          "output_type": "execute_result",
          "data": {
            "text/plain": [
              "(tensor([[0.0000],\n",
              "         [0.0100],\n",
              "         [0.0200],\n",
              "         [0.0300],\n",
              "         [0.0400],\n",
              "         [0.0500],\n",
              "         [0.0600],\n",
              "         [0.0700],\n",
              "         [0.0800],\n",
              "         [0.0900]]),\n",
              " tensor([[0.5000],\n",
              "         [0.5030],\n",
              "         [0.5060],\n",
              "         [0.5090],\n",
              "         [0.5120],\n",
              "         [0.5150],\n",
              "         [0.5180],\n",
              "         [0.5210],\n",
              "         [0.5240],\n",
              "         [0.5270]]))"
            ]
          },
          "metadata": {},
          "execution_count": 3
        }
      ]
    },
    {
      "cell_type": "code",
      "source": [
        "split = int(0.8*len(X))\n",
        "\n",
        "X_train = X[:split]\n",
        "y_train = y[:split]\n",
        "\n",
        "X_test = X[split:]\n",
        "y_test = y[split:]\n",
        "\n",
        "len(X_test), len(y_test), len(X_train), len(y_train)\n",
        "\n"
      ],
      "metadata": {
        "id": "LJ7jfWi27_bq",
        "outputId": "7e78a780-075c-4440-caa7-9c60e2b04b3b",
        "colab": {
          "base_uri": "https://localhost:8080/"
        }
      },
      "execution_count": 4,
      "outputs": [
        {
          "output_type": "execute_result",
          "data": {
            "text/plain": [
              "(100, 100, 400, 400)"
            ]
          },
          "metadata": {},
          "execution_count": 4
        }
      ]
    },
    {
      "cell_type": "code",
      "source": [
        "def plotfunction(y_preds = None):\n",
        "  plt.figure(figsize = (10,7))\n",
        "\n",
        "  plt.scatter(X_train, y_train, c = 'k', s = 3, label = 'Training Data')\n",
        "\n",
        "  plt.scatter(X_test, y_test, c = 'b', s = 3, label = 'Test Data')\n",
        "\n",
        "  if y_preds is not None:\n",
        "    plt.scatter(X_test, y_preds, c = 'r', s = 3, label = 'Prediction Data')\n",
        "\n",
        "\n",
        "  plt.legend()\n",
        "\n"
      ],
      "metadata": {
        "id": "JdDJ6r428O--"
      },
      "execution_count": 5,
      "outputs": []
    },
    {
      "cell_type": "code",
      "source": [
        "plotfunction()"
      ],
      "metadata": {
        "id": "osJpHwIl8pHl",
        "outputId": "c583c74d-c7e7-495a-9ac0-ab36ef6ba790",
        "colab": {
          "base_uri": "https://localhost:8080/",
          "height": 599
        }
      },
      "execution_count": 6,
      "outputs": [
        {
          "output_type": "display_data",
          "data": {
            "text/plain": [
              "<Figure size 1000x700 with 1 Axes>"
            ],
            "image/png": "[encoded data removed]"
          },
          "metadata": {}
        }
      ]
    },
    {
      "cell_type": "code",
      "source": [
        "class LinearModel(nn.Module):\n",
        "\n",
        "  def __init__ (self):\n",
        "    super().__init__()\n",
        "    self.weight = nn.Parameter(torch.rand(1, requires_grad = True, dtype = torch.float))\n",
        "\n",
        "    self.bias = nn.Parameter(torch.rand(1, requires_grad = True, dtype=torch.float))\n",
        "\n",
        "  def forward(self, x: torch.tensor) -> torch.Tensor:\n",
        "    return self.weight*x + self.bias\n"
      ],
      "metadata": {
        "id": "dIU-MZJw_Kk8"
      },
      "execution_count": 7,
      "outputs": []
    },
    {
      "cell_type": "code",
      "source": [
        "model0 = LinearModel()"
      ],
      "metadata": {
        "id": "2MGjfI5gA-JC"
      },
      "execution_count": 8,
      "outputs": []
    },
    {
      "cell_type": "code",
      "source": [
        "model0.state_dict()"
      ],
      "metadata": {
        "id": "JFE3agt9BM5C",
        "outputId": "f60a6359-c173-466f-d82b-eb90cc7b4697",
        "colab": {
          "base_uri": "https://localhost:8080/"
        }
      },
      "execution_count": 9,
      "outputs": [
        {
          "output_type": "execute_result",
          "data": {
            "text/plain": [
              "OrderedDict([('weight', tensor([0.5159])), ('bias', tensor([0.9197]))])"
            ]
          },
          "metadata": {},
          "execution_count": 9
        }
      ]
    },
    {
      "cell_type": "code",
      "source": [
        "with torch.inference_mode():\n",
        "  y_preds = model0(X_test)\n",
        "\n",
        "model0.weight, model0.bias, X_test[:10], y_preds[:10], y_test[:10]"
      ],
      "metadata": {
        "id": "smBfuhXMBQLu",
        "outputId": "0edd489c-1886-4a9a-e2a6-4d5a662da3af",
        "colab": {
          "base_uri": "https://localhost:8080/"
        }
      },
      "execution_count": 10,
      "outputs": [
        {
          "output_type": "execute_result",
          "data": {
            "text/plain": [
              "(Parameter containing:\n",
              " tensor([0.5159], requires_grad=True),\n",
              " Parameter containing:\n",
              " tensor([0.9197], requires_grad=True),\n",
              " tensor([[4.0000],\n",
              "         [4.0100],\n",
              "         [4.0200],\n",
              "         [4.0300],\n",
              "         [4.0400],\n",
              "         [4.0500],\n",
              "         [4.0600],\n",
              "         [4.0700],\n",
              "         [4.0800],\n",
              "         [4.0900]]),\n",
              " tensor([[2.9835],\n",
              "         [2.9886],\n",
              "         [2.9938],\n",
              "         [2.9990],\n",
              "         [3.0041],\n",
              "         [3.0093],\n",
              "         [3.0144],\n",
              "         [3.0196],\n",
              "         [3.0248],\n",
              "         [3.0299]]),\n",
              " tensor([[1.7000],\n",
              "         [1.7030],\n",
              "         [1.7060],\n",
              "         [1.7090],\n",
              "         [1.7120],\n",
              "         [1.7150],\n",
              "         [1.7180],\n",
              "         [1.7210],\n",
              "         [1.7240],\n",
              "         [1.7270]]))"
            ]
          },
          "metadata": {},
          "execution_count": 10
        }
      ]
    },
    {
      "cell_type": "code",
      "source": [
        "plotfunction(y_preds)"
      ],
      "metadata": {
        "id": "TZv4PCa4Byuj",
        "outputId": "5b0aedd2-6765-415c-af30-cae904a6eb67",
        "colab": {
          "base_uri": "https://localhost:8080/",
          "height": 599
        }
      },
      "execution_count": 11,
      "outputs": [
        {
          "output_type": "display_data",
          "data": {
            "text/plain": [
              "<Figure size 1000x700 with 1 Axes>"
            ],
            "image/png": "[encoded data removed]"
          },
          "metadata": {}
        }
      ]
    },
    {
      "cell_type": "code",
      "source": [
        "lossfunction = nn.L1Loss()\n",
        "\n",
        "optimizer = torch.optim.SGD(params = model0.parameters(), lr=0.001)"
      ],
      "metadata": {
        "id": "dPESiL5zC-rh"
      },
      "execution_count": 12,
      "outputs": []
    },
    {
      "cell_type": "code",
      "source": [
        "list(model0.parameters())"
      ],
      "metadata": {
        "id": "MBBXmRyjW84n",
        "outputId": "6cb6a441-6e2c-4d7c-ff83-5d136f338dd2",
        "colab": {
          "base_uri": "https://localhost:8080/"
        }
      },
      "execution_count": 13,
      "outputs": [
        {
          "output_type": "execute_result",
          "data": {
            "text/plain": [
              "[Parameter containing:\n",
              " tensor([0.5159], requires_grad=True),\n",
              " Parameter containing:\n",
              " tensor([0.9197], requires_grad=True)]"
            ]
          },
          "metadata": {},
          "execution_count": 13
        }
      ]
    },
    {
      "cell_type": "code",
      "source": [
        "epoch_count = []\n",
        "train_loss = []\n",
        "test_loss = []\n",
        "\n",
        "\n",
        "epochs = 1000\n",
        "\n",
        "for epoch in range (epochs):\n",
        "  model0.train() #training mode\n",
        "\n",
        "  #forward pass\n",
        "  train_preds = model0(X_train)\n",
        "\n",
        "  loss = lossfunction(train_preds, y_train)\n",
        "\n",
        "  #gradzero\n",
        "  optimizer.zero_grad()\n",
        "\n",
        "  loss.backward()\n",
        "\n",
        "  optimizer.step()\n",
        "\n",
        "  #TESTINGGGG\n",
        "  model0.eval()\n",
        "\n",
        "  with torch.inference_mode():\n",
        "    test_preds = model0(X_test)\n",
        "    loss_of_preds = lossfunction(test_preds, y_test)\n",
        "\n",
        "    if epoch % 10 == 0:\n",
        "      epoch_count.append(epoch)\n",
        "      train_loss.append(loss.detach().numpy())\n",
        "      test_loss.append(loss_of_preds.detach().numpy())\n",
        "      print(f\"Epoch: {epoch} | MAE Train Loss: {loss} | MAE Test Loss: {loss_of_preds} \")\n",
        "\n",
        "\n",
        "\n",
        "\n",
        "\n",
        "\n",
        "\n",
        "\n",
        "\n"
      ],
      "metadata": {
        "id": "QEfSzOEz3YAl",
        "outputId": "50c00802-ef9d-4b14-899b-ee7206a12802",
        "colab": {
          "base_uri": "https://localhost:8080/"
        }
      },
      "execution_count": 14,
      "outputs": [
        {
          "output_type": "stream",
          "name": "stdout",
          "text": [
            "Epoch: 0 | MAE Train Loss: 0.8505269885063171 | MAE Test Loss: 1.3803956508636475 \n",
            "Epoch: 10 | MAE Train Loss: 0.8007264733314514 | MAE Test Loss: 1.2807197570800781 \n",
            "Epoch: 20 | MAE Train Loss: 0.7509263753890991 | MAE Test Loss: 1.1810448169708252 \n",
            "Epoch: 30 | MAE Train Loss: 0.7011262774467468 | MAE Test Loss: 1.0813697576522827 \n",
            "Epoch: 40 | MAE Train Loss: 0.6513262391090393 | MAE Test Loss: 0.9816948175430298 \n",
            "Epoch: 50 | MAE Train Loss: 0.6015262007713318 | MAE Test Loss: 0.8820197582244873 \n",
            "Epoch: 60 | MAE Train Loss: 0.5517261028289795 | MAE Test Loss: 0.7823447585105896 \n",
            "Epoch: 70 | MAE Train Loss: 0.501926064491272 | MAE Test Loss: 0.6826698184013367 \n",
            "Epoch: 80 | MAE Train Loss: 0.4521259665489197 | MAE Test Loss: 0.582994818687439 \n",
            "Epoch: 90 | MAE Train Loss: 0.40232589840888977 | MAE Test Loss: 0.48331981897354126 \n",
            "Epoch: 100 | MAE Train Loss: 0.35252586007118225 | MAE Test Loss: 0.38364478945732117 \n",
            "Epoch: 110 | MAE Train Loss: 0.30272579193115234 | MAE Test Loss: 0.28396978974342346 \n",
            "Epoch: 120 | MAE Train Loss: 0.25292572379112244 | MAE Test Loss: 0.18429481983184814 \n",
            "Epoch: 130 | MAE Train Loss: 0.20312567055225372 | MAE Test Loss: 0.08461982011795044 \n",
            "Epoch: 140 | MAE Train Loss: 0.15332557260990143 | MAE Test Loss: 0.019807886332273483 \n",
            "Epoch: 150 | MAE Train Loss: 0.11919022351503372 | MAE Test Loss: 0.09083213657140732 \n",
            "Epoch: 160 | MAE Train Loss: 0.11122585088014603 | MAE Test Loss: 0.12311383336782455 \n",
            "Epoch: 170 | MAE Train Loss: 0.1079307571053505 | MAE Test Loss: 0.13918548822402954 \n",
            "Epoch: 180 | MAE Train Loss: 0.10581924766302109 | MAE Test Loss: 0.14749841392040253 \n",
            "Epoch: 190 | MAE Train Loss: 0.1040826290845871 | MAE Test Loss: 0.15158899128437042 \n",
            "Epoch: 200 | MAE Train Loss: 0.10248088091611862 | MAE Test Loss: 0.1530921757221222 \n",
            "Epoch: 210 | MAE Train Loss: 0.10092700272798538 | MAE Test Loss: 0.15311309695243835 \n",
            "Epoch: 220 | MAE Train Loss: 0.09939190000295639 | MAE Test Loss: 0.15219619870185852 \n",
            "Epoch: 230 | MAE Train Loss: 0.09786300361156464 | MAE Test Loss: 0.15074564516544342 \n",
            "Epoch: 240 | MAE Train Loss: 0.09633779525756836 | MAE Test Loss: 0.14882956445217133 \n",
            "Epoch: 250 | MAE Train Loss: 0.09481258690357208 | MAE Test Loss: 0.14691348373889923 \n",
            "Epoch: 260 | MAE Train Loss: 0.09328766167163849 | MAE Test Loss: 0.14486467838287354 \n",
            "Epoch: 270 | MAE Train Loss: 0.09176347404718399 | MAE Test Loss: 0.14248406887054443 \n",
            "Epoch: 280 | MAE Train Loss: 0.0902392566204071 | MAE Test Loss: 0.14010347425937653 \n",
            "Epoch: 290 | MAE Train Loss: 0.08871505409479141 | MAE Test Loss: 0.13772287964820862 \n",
            "Epoch: 300 | MAE Train Loss: 0.08719083666801453 | MAE Test Loss: 0.13534227013587952 \n",
            "Epoch: 310 | MAE Train Loss: 0.08566661179065704 | MAE Test Loss: 0.13296166062355042 \n",
            "Epoch: 320 | MAE Train Loss: 0.08414240181446075 | MAE Test Loss: 0.1306474208831787 \n",
            "Epoch: 330 | MAE Train Loss: 0.08261821419000626 | MAE Test Loss: 0.1282668113708496 \n",
            "Epoch: 340 | MAE Train Loss: 0.08109401911497116 | MAE Test Loss: 0.1258862167596817 \n",
            "Epoch: 350 | MAE Train Loss: 0.07956979423761368 | MAE Test Loss: 0.1235056146979332 \n",
            "Epoch: 360 | MAE Train Loss: 0.07804557681083679 | MAE Test Loss: 0.1211249902844429 \n",
            "Epoch: 370 | MAE Train Loss: 0.07652135193347931 | MAE Test Loss: 0.118744395673275 \n",
            "Epoch: 380 | MAE Train Loss: 0.07499714195728302 | MAE Test Loss: 0.11636379361152649 \n",
            "Epoch: 390 | MAE Train Loss: 0.07347295433282852 | MAE Test Loss: 0.11404953896999359 \n",
            "Epoch: 400 | MAE Train Loss: 0.07194875925779343 | MAE Test Loss: 0.11166892945766449 \n",
            "Epoch: 410 | MAE Train Loss: 0.07042454928159714 | MAE Test Loss: 0.10928832739591599 \n",
            "Epoch: 420 | MAE Train Loss: 0.06890032440423965 | MAE Test Loss: 0.10690771788358688 \n",
            "Epoch: 430 | MAE Train Loss: 0.06737611442804337 | MAE Test Loss: 0.10452713072299957 \n",
            "Epoch: 440 | MAE Train Loss: 0.06585188955068588 | MAE Test Loss: 0.10214652121067047 \n",
            "Epoch: 450 | MAE Train Loss: 0.06432769447565079 | MAE Test Loss: 0.09983226656913757 \n",
            "Epoch: 460 | MAE Train Loss: 0.06280349940061569 | MAE Test Loss: 0.09745166450738907 \n",
            "Epoch: 470 | MAE Train Loss: 0.0612792931497097 | MAE Test Loss: 0.09507105499505997 \n",
            "Epoch: 480 | MAE Train Loss: 0.05975507199764252 | MAE Test Loss: 0.09269046038389206 \n",
            "Epoch: 490 | MAE Train Loss: 0.058230843394994736 | MAE Test Loss: 0.09030985087156296 \n",
            "Epoch: 500 | MAE Train Loss: 0.05670662969350815 | MAE Test Loss: 0.08792911469936371 \n",
            "Epoch: 510 | MAE Train Loss: 0.055182404816150665 | MAE Test Loss: 0.08561420440673828 \n",
            "Epoch: 520 | MAE Train Loss: 0.053658194839954376 | MAE Test Loss: 0.08323292434215546 \n",
            "Epoch: 530 | MAE Train Loss: 0.05213398113846779 | MAE Test Loss: 0.08085165917873383 \n",
            "Epoch: 540 | MAE Train Loss: 0.050609737634658813 | MAE Test Loss: 0.078470379114151 \n",
            "Epoch: 550 | MAE Train Loss: 0.04908549413084984 | MAE Test Loss: 0.07608909904956818 \n",
            "Epoch: 560 | MAE Train Loss: 0.04756125435233116 | MAE Test Loss: 0.07370781898498535 \n",
            "Epoch: 570 | MAE Train Loss: 0.04603702574968338 | MAE Test Loss: 0.07139291614294052 \n",
            "Epoch: 580 | MAE Train Loss: 0.04451281949877739 | MAE Test Loss: 0.0690116286277771 \n",
            "Epoch: 590 | MAE Train Loss: 0.042988602072000504 | MAE Test Loss: 0.06663036346435547 \n",
            "Epoch: 600 | MAE Train Loss: 0.04146436229348183 | MAE Test Loss: 0.06424908339977264 \n",
            "Epoch: 610 | MAE Train Loss: 0.03994012251496315 | MAE Test Loss: 0.061867814511060715 \n",
            "Epoch: 620 | MAE Train Loss: 0.038415879011154175 | MAE Test Loss: 0.05948653072118759 \n",
            "Epoch: 630 | MAE Train Loss: 0.03689165040850639 | MAE Test Loss: 0.057171620428562164 \n",
            "Epoch: 640 | MAE Train Loss: 0.0353674441576004 | MAE Test Loss: 0.05479035526514053 \n",
            "Epoch: 650 | MAE Train Loss: 0.03384322673082352 | MAE Test Loss: 0.05240907520055771 \n",
            "Epoch: 660 | MAE Train Loss: 0.03231898695230484 | MAE Test Loss: 0.050027795135974884 \n",
            "Epoch: 670 | MAE Train Loss: 0.030794739723205566 | MAE Test Loss: 0.047646526247262955 \n",
            "Epoch: 680 | MAE Train Loss: 0.029270505532622337 | MAE Test Loss: 0.04526524990797043 \n",
            "Epoch: 690 | MAE Train Loss: 0.02774627134203911 | MAE Test Loss: 0.0429503358900547 \n",
            "Epoch: 700 | MAE Train Loss: 0.02622205577790737 | MAE Test Loss: 0.040535878390073776 \n",
            "Epoch: 710 | MAE Train Loss: 0.024697815999388695 | MAE Test Loss: 0.038154613226652145 \n",
            "Epoch: 720 | MAE Train Loss: 0.023173587396740913 | MAE Test Loss: 0.03583969548344612 \n",
            "Epoch: 730 | MAE Train Loss: 0.02164938487112522 | MAE Test Loss: 0.033458419144153595 \n",
            "Epoch: 740 | MAE Train Loss: 0.02012515999376774 | MAE Test Loss: 0.031077148392796516 \n",
            "Epoch: 750 | MAE Train Loss: 0.01860092207789421 | MAE Test Loss: 0.02869587205350399 \n",
            "Epoch: 760 | MAE Train Loss: 0.017076676711440086 | MAE Test Loss: 0.026314597576856613 \n",
            "Epoch: 770 | MAE Train Loss: 0.015552438795566559 | MAE Test Loss: 0.023933323100209236 \n",
            "Epoch: 780 | MAE Train Loss: 0.014028212055563927 | MAE Test Loss: 0.02161840908229351 \n",
            "Epoch: 790 | MAE Train Loss: 0.01250400673598051 | MAE Test Loss: 0.019237130880355835 \n",
            "Epoch: 800 | MAE Train Loss: 0.010979787446558475 | MAE Test Loss: 0.016855858266353607 \n",
            "Epoch: 810 | MAE Train Loss: 0.0094555439427495 | MAE Test Loss: 0.014474582858383656 \n",
            "Epoch: 820 | MAE Train Loss: 0.007931304164230824 | MAE Test Loss: 0.01209330651909113 \n",
            "Epoch: 830 | MAE Train Loss: 0.006407064385712147 | MAE Test Loss: 0.009712032042443752 \n",
            "Epoch: 840 | MAE Train Loss: 0.004882837180048227 | MAE Test Loss: 0.007397117558866739 \n",
            "Epoch: 850 | MAE Train Loss: 0.003358634188771248 | MAE Test Loss: 0.005015844013541937 \n",
            "Epoch: 860 | MAE Train Loss: 0.0018350258469581604 | MAE Test Loss: 0.002769715851172805 \n",
            "Epoch: 870 | MAE Train Loss: 0.0009116583969444036 | MAE Test Loss: 0.005321979522705078 \n",
            "Epoch: 880 | MAE Train Loss: 0.001556012430228293 | MAE Test Loss: 0.008011159487068653 \n",
            "Epoch: 890 | MAE Train Loss: 0.0013451719423756003 | MAE Test Loss: 0.008241968229413033 \n",
            "Epoch: 900 | MAE Train Loss: 0.00130475964397192 | MAE Test Loss: 0.008282899856567383 \n",
            "Epoch: 910 | MAE Train Loss: 0.0012997528538107872 | MAE Test Loss: 0.008287906646728516 \n",
            "Epoch: 920 | MAE Train Loss: 0.0012997528538107872 | MAE Test Loss: 0.008287906646728516 \n",
            "Epoch: 930 | MAE Train Loss: 0.0012997528538107872 | MAE Test Loss: 0.008287906646728516 \n",
            "Epoch: 940 | MAE Train Loss: 0.0012997528538107872 | MAE Test Loss: 0.008287906646728516 \n",
            "Epoch: 950 | MAE Train Loss: 0.0012997528538107872 | MAE Test Loss: 0.008287906646728516 \n",
            "Epoch: 960 | MAE Train Loss: 0.0012997528538107872 | MAE Test Loss: 0.008287906646728516 \n",
            "Epoch: 970 | MAE Train Loss: 0.0012997528538107872 | MAE Test Loss: 0.008287906646728516 \n",
            "Epoch: 980 | MAE Train Loss: 0.0012997528538107872 | MAE Test Loss: 0.008287906646728516 \n",
            "Epoch: 990 | MAE Train Loss: 0.0012997528538107872 | MAE Test Loss: 0.008287906646728516 \n"
          ]
        }
      ]
    },
    {
      "cell_type": "code",
      "source": [
        "plt.plot(epoch_count, train_loss, label = 'Train loss')\n",
        "plt.plot(epoch_count, test_loss, label = 'Test loss')\n",
        "plt.xlabel('Epochs')\n",
        "plt.ylabel('Loss')\n",
        "plt.legend()"
      ],
      "metadata": {
        "id": "i0Ti8oahX-d0",
        "outputId": "ae9d1257-1d27-4673-f10b-1fdc6c464feb",
        "colab": {
          "base_uri": "https://localhost:8080/",
          "height": 467
        }
      },
      "execution_count": 15,
      "outputs": [
        {
          "output_type": "execute_result",
          "data": {
            "text/plain": [
              "<matplotlib.legend.Legend at 0x7c36980da6e0>"
            ]
          },
          "metadata": {},
          "execution_count": 15
        },
        {
          "output_type": "display_data",
          "data": {
            "text/plain": [
              "<Figure size 640x480 with 1 Axes>"
            ],
            "image/png": "[encoded data removed]"
          },
          "metadata": {}
        }
      ]
    },
    {
      "cell_type": "code",
      "source": [],
      "metadata": {
        "id": "5IkCnZ75Zlkm"
      },
      "execution_count": 15,
      "outputs": []
    },
    {
      "cell_type": "code",
      "source": [
        "plotfunction(test_preds)"
      ],
      "metadata": {
        "id": "fklktD6oZn0n",
        "outputId": "85d168eb-e8a0-4c1f-b1e2-5abf6644d2ea",
        "colab": {
          "base_uri": "https://localhost:8080/",
          "height": 599
        }
      },
      "execution_count": 16,
      "outputs": [
        {
          "output_type": "display_data",
          "data": {
            "text/plain": [
              "<Figure size 1000x700 with 1 Axes>"
            ],
            "image/png": "[encoded data removed]"
          },
          "metadata": {}
        }
      ]
    },
    {
      "cell_type": "code",
      "source": [],
      "metadata": {
        "id": "57cgOvIbZs5d"
      },
      "execution_count": 16,
      "outputs": []
    }
  ],
  "metadata": {
    "colab": {
      "provenance": [],
      "include_colab_link": true
    },
    "kernelspec": {
      "display_name": "Python 3",
      "name": "python3"
    }
  },
  "nbformat": 4,
  "nbformat_minor": 0
}